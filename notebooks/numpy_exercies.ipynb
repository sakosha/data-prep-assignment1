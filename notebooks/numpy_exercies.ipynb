{
 "cells": [
  {
   "cell_type": "markdown",
   "id": "6448ff5e-0b0c-400c-9fa8-9213ffdb7e53",
   "metadata": {},
   "source": [
    "# Numpy exercises"
   ]
  },
  {
   "cell_type": "code",
   "execution_count": 1,
   "id": "2dc39a30-bcbd-4dee-98ed-95e21b708743",
   "metadata": {},
   "outputs": [],
   "source": [
    "import numpy as np\n",
    "import pandas as pd"
   ]
  },
  {
   "cell_type": "markdown",
   "id": "45041357-3c2f-491d-8a9b-ded52c38e304",
   "metadata": {},
   "source": [
    "## 1 eigenvalues"
   ]
  },
  {
   "cell_type": "code",
   "execution_count": 2,
   "id": "46ab88e8-1c47-4a5a-99ff-4f648eb6e79d",
   "metadata": {},
   "outputs": [
    {
     "data": {
      "text/plain": [
       "array([ 8.89490179,  2.03688771, -1.93178949])"
      ]
     },
     "execution_count": 2,
     "metadata": {},
     "output_type": "execute_result"
    }
   ],
   "source": [
    "A = np.array([[4, 2, 3],\n",
    "              [1, 3, 2],\n",
    "              [5, 6, 2]])\n",
    "values, vectors = np.linalg.eig(A)\n",
    "values"
   ]
  },
  {
   "cell_type": "markdown",
   "id": "39a5dcb9-cde1-4b1e-b5a2-7aa3a35fca96",
   "metadata": {},
   "source": [
    "## 2 eigenvectors"
   ]
  },
  {
   "cell_type": "code",
   "execution_count": 3,
   "id": "0477c246-6db2-47fb-b6de-059a0632bc7b",
   "metadata": {},
   "outputs": [
    {
     "data": {
      "text/plain": [
       "array([[-0.58909418, -0.76580857, -0.35249971],\n",
       "       [-0.34745221,  0.63863715, -0.28942125],\n",
       "       [-0.72955124,  0.07536464,  0.88993219]])"
      ]
     },
     "execution_count": 3,
     "metadata": {},
     "output_type": "execute_result"
    }
   ],
   "source": [
    "vectors"
   ]
  },
  {
   "cell_type": "markdown",
   "id": "9e8dfead-6c3a-47d2-861d-9b9151be2f66",
   "metadata": {},
   "source": [
    "## 3 matrix mult"
   ]
  },
  {
   "cell_type": "code",
   "execution_count": 4,
   "id": "2306d855-55e2-4948-9628-0536ae9d76bf",
   "metadata": {},
   "outputs": [],
   "source": [
    "B = np.array([[3, 1, 6],\n",
    "              [2, 2, 2],\n",
    "              [4, 5, 1]])"
   ]
  },
  {
   "cell_type": "code",
   "execution_count": 5,
   "id": "f55c807c-919a-4e2f-9fe1-c17a295b83c9",
   "metadata": {},
   "outputs": [
    {
     "data": {
      "text/plain": [
       "array([[28, 23, 31],\n",
       "       [17, 17, 14],\n",
       "       [35, 27, 44]])"
      ]
     },
     "execution_count": 5,
     "metadata": {},
     "output_type": "execute_result"
    }
   ],
   "source": [
    "A @ B"
   ]
  },
  {
   "cell_type": "markdown",
   "id": "452121ca-7ec3-45e7-a5bc-75bbbb8154b4",
   "metadata": {},
   "source": [
    "## 4 Diagonal"
   ]
  },
  {
   "cell_type": "code",
   "execution_count": 6,
   "id": "d83b0c44-6e18-46cf-b6e6-12751fdac718",
   "metadata": {},
   "outputs": [
    {
     "data": {
      "text/plain": [
       "array([3, 2, 1])"
      ]
     },
     "execution_count": 6,
     "metadata": {},
     "output_type": "execute_result"
    }
   ],
   "source": [
    "B_diagonal = np.diag(B)\n",
    "B_diagonal"
   ]
  },
  {
   "cell_type": "markdown",
   "id": "40754747-d097-4646-8f6d-f21192d74315",
   "metadata": {},
   "source": [
    "## 5 Inverse"
   ]
  },
  {
   "cell_type": "code",
   "execution_count": 7,
   "id": "5d317765-e337-46b5-91e9-7bc8ae0c0755",
   "metadata": {},
   "outputs": [
    {
     "data": {
      "text/plain": [
       "array([[ 1.33333333, -4.83333333,  1.66666667],\n",
       "       [-1.        ,  3.5       , -1.        ],\n",
       "       [-0.33333333,  1.83333333, -0.66666667]])"
      ]
     },
     "execution_count": 7,
     "metadata": {},
     "output_type": "execute_result"
    }
   ],
   "source": [
    "B_inv = np.linalg.inv(B)\n",
    "B_inv"
   ]
  },
  {
   "cell_type": "markdown",
   "id": "73503344-089a-4d8f-8501-17666f21fbf5",
   "metadata": {},
   "source": [
    "## 6 Diagonalization"
   ]
  },
  {
   "cell_type": "code",
   "execution_count": 8,
   "id": "0c1edf5a-f25d-4570-b3dc-4db6e1f7cb0b",
   "metadata": {},
   "outputs": [
    {
     "name": "stdout",
     "output_type": "stream",
     "text": [
      "matrix A can be diagonalized\n"
     ]
    }
   ],
   "source": [
    "values, vectors = np.linalg.eig(A)\n",
    "D = np.diag(values)\n",
    "P = vectors\n",
    "P_inv = np.linalg.inv(P)\n",
    "try:\n",
    "    P @ D @ P_inv\n",
    "except Exception:\n",
    "    print('matrix A cannot be diagonalized')\n",
    "else:\n",
    "    print('matrix A can be diagonalized')"
   ]
  },
  {
   "cell_type": "markdown",
   "id": "84a9ec46-8d22-4b28-bc7c-7ec84935556b",
   "metadata": {},
   "source": [
    "## 7 moving avg"
   ]
  },
  {
   "cell_type": "code",
   "execution_count": 9,
   "id": "186d30ce-2af0-41fd-8d83-2096a6035e1d",
   "metadata": {},
   "outputs": [
    {
     "data": {
      "text/html": [
       "<div>\n",
       "<style scoped>\n",
       "    .dataframe tbody tr th:only-of-type {\n",
       "        vertical-align: middle;\n",
       "    }\n",
       "\n",
       "    .dataframe tbody tr th {\n",
       "        vertical-align: top;\n",
       "    }\n",
       "\n",
       "    .dataframe thead th {\n",
       "        text-align: right;\n",
       "    }\n",
       "</style>\n",
       "<table border=\"1\" class=\"dataframe\">\n",
       "  <thead>\n",
       "    <tr style=\"text-align: right;\">\n",
       "      <th></th>\n",
       "      <th>data</th>\n",
       "      <th>filled</th>\n",
       "    </tr>\n",
       "  </thead>\n",
       "  <tbody>\n",
       "    <tr>\n",
       "      <th>0</th>\n",
       "      <td>0.021103</td>\n",
       "      <td>0.021103</td>\n",
       "    </tr>\n",
       "    <tr>\n",
       "      <th>1</th>\n",
       "      <td>NaN</td>\n",
       "      <td>0.021103</td>\n",
       "    </tr>\n",
       "    <tr>\n",
       "      <th>2</th>\n",
       "      <td>NaN</td>\n",
       "      <td>0.021103</td>\n",
       "    </tr>\n",
       "    <tr>\n",
       "      <th>3</th>\n",
       "      <td>NaN</td>\n",
       "      <td>0.021103</td>\n",
       "    </tr>\n",
       "    <tr>\n",
       "      <th>4</th>\n",
       "      <td>1.406702</td>\n",
       "      <td>1.406702</td>\n",
       "    </tr>\n",
       "  </tbody>\n",
       "</table>\n",
       "</div>"
      ],
      "text/plain": [
       "       data    filled\n",
       "0  0.021103  0.021103\n",
       "1       NaN  0.021103\n",
       "2       NaN  0.021103\n",
       "3       NaN  0.021103\n",
       "4  1.406702  1.406702"
      ]
     },
     "execution_count": 9,
     "metadata": {},
     "output_type": "execute_result"
    }
   ],
   "source": [
    "data = np.random.randn(100)\n",
    "mask = np.random.choice([1, 0], size=data.shape, p=[0.33, 0.67]).astype(bool)  # 33% are missing\n",
    "\n",
    "data_with_nans = data.copy()\n",
    "data_with_nans[mask] = np.nan\n",
    "\n",
    "df = pd.DataFrame(data_with_nans, columns=[\"data\"])\n",
    "df[\"filled\"] = df[\"data\"].fillna(df[\"data\"].rolling(window=5, min_periods=1).mean())\n",
    "df.head()"
   ]
  },
  {
   "cell_type": "markdown",
   "id": "568729b8-2e59-4fa1-b2ff-13eea2f2c8f3",
   "metadata": {},
   "source": [
    "## 8 Find Percentile"
   ]
  },
  {
   "cell_type": "code",
   "execution_count": 10,
   "id": "b57b5e5c-cc65-4c88-9dbf-3c1d7546929a",
   "metadata": {},
   "outputs": [
    {
     "data": {
      "text/plain": [
       "(49.0, 49.94)"
      ]
     },
     "execution_count": 10,
     "metadata": {},
     "output_type": "execute_result"
    }
   ],
   "source": [
    "data = np.random.randint(0, 101, 100)\n",
    "percentile = np.percentile(data, 50)\n",
    "percentile, data.mean()"
   ]
  },
  {
   "cell_type": "markdown",
   "id": "1d543e50-6023-4218-a5bc-f9c381b39a66",
   "metadata": {},
   "source": [
    "## 9 Corr coef"
   ]
  },
  {
   "cell_type": "code",
   "execution_count": 11,
   "id": "074a95c1-4fa4-4e06-8119-05be6e7789e0",
   "metadata": {},
   "outputs": [
    {
     "data": {
      "text/plain": [
       "-0.1624592912743462"
      ]
     },
     "execution_count": 11,
     "metadata": {},
     "output_type": "execute_result"
    }
   ],
   "source": [
    "x = np.random.rand(100)\n",
    "y = np.random.rand(100)\n",
    "correlation_coefficient = np.corrcoef(x, y)[0, 1]\n",
    "correlation_coefficient"
   ]
  },
  {
   "cell_type": "markdown",
   "id": "59dc0f95-609a-497b-a34a-25d715ab0edf",
   "metadata": {},
   "source": [
    "## 10 Standard deviation"
   ]
  },
  {
   "cell_type": "code",
   "execution_count": 12,
   "id": "87cb9889-114f-4f07-8c7d-47964ce081f2",
   "metadata": {},
   "outputs": [
    {
     "data": {
      "text/plain": [
       "0.30541917725522477"
      ]
     },
     "execution_count": 12,
     "metadata": {},
     "output_type": "execute_result"
    }
   ],
   "source": [
    "np.std(x)"
   ]
  },
  {
   "cell_type": "markdown",
   "id": "88749d8b-57e3-4b50-beaa-69085d0285c7",
   "metadata": {},
   "source": [
    "## 11 Variance "
   ]
  },
  {
   "cell_type": "code",
   "execution_count": 13,
   "id": "3225cd37-ecb1-4c49-a567-ba8ee74d2375",
   "metadata": {},
   "outputs": [
    {
     "data": {
      "text/plain": [
       "0.0932808738352584"
      ]
     },
     "execution_count": 13,
     "metadata": {},
     "output_type": "execute_result"
    }
   ],
   "source": [
    "np.var(x)"
   ]
  },
  {
   "cell_type": "markdown",
   "id": "a31764c3-4fbb-40b4-a394-3d495babe76f",
   "metadata": {},
   "source": [
    "## 12 Median"
   ]
  },
  {
   "cell_type": "code",
   "execution_count": 14,
   "id": "2e56064e-bbe9-4661-8878-70ff9d41c25a",
   "metadata": {},
   "outputs": [
    {
     "data": {
      "text/plain": [
       "0.5045792212145404"
      ]
     },
     "execution_count": 14,
     "metadata": {},
     "output_type": "execute_result"
    }
   ],
   "source": [
    "np.median(x)"
   ]
  },
  {
   "cell_type": "markdown",
   "id": "67cf9aa7-b090-443b-bfe6-8c8a9470190a",
   "metadata": {},
   "source": [
    "## 13 IQR "
   ]
  },
  {
   "cell_type": "code",
   "execution_count": 15,
   "id": "8df713a4-4e24-45c2-a412-fc67527051c4",
   "metadata": {},
   "outputs": [
    {
     "data": {
      "text/plain": [
       "0.5820583553976821"
      ]
     },
     "execution_count": 15,
     "metadata": {},
     "output_type": "execute_result"
    }
   ],
   "source": [
    "np.percentile(x, 75) - np.percentile(x, 25)"
   ]
  },
  {
   "cell_type": "markdown",
   "id": "9a173801-fa6f-4d9e-8a22-918a06bf28c3",
   "metadata": {},
   "source": [
    "## 14 counts of unique"
   ]
  },
  {
   "cell_type": "code",
   "execution_count": 16,
   "id": "7589f8b2-16ef-4ab3-b2f1-f92d67ad329e",
   "metadata": {},
   "outputs": [
    {
     "data": {
      "text/plain": [
       "(array([0.00553076, 0.00719377, 0.00954303, 0.0135926 , 0.0166969 ,\n",
       "        0.02481163, 0.04758412, 0.06470791, 0.092426  , 0.10095724,\n",
       "        0.10175469, 0.1062509 , 0.10720524, 0.11787714, 0.13540933,\n",
       "        0.13988537, 0.14038027, 0.14092414, 0.1494615 , 0.1503082 ,\n",
       "        0.1508052 , 0.16128882, 0.1634236 , 0.1650056 , 0.18628243,\n",
       "        0.19785244, 0.21892123, 0.2289648 , 0.2302866 , 0.23499985,\n",
       "        0.23518543, 0.24529938, 0.25077651, 0.30348468, 0.3450569 ,\n",
       "        0.34955726, 0.35331833, 0.356554  , 0.37428413, 0.37523628,\n",
       "        0.38478833, 0.38766824, 0.39420992, 0.40098468, 0.40618357,\n",
       "        0.45516763, 0.47182312, 0.47463617, 0.48128928, 0.50379192,\n",
       "        0.50536652, 0.50757947, 0.51677311, 0.53595492, 0.54728498,\n",
       "        0.55452209, 0.55665123, 0.56898542, 0.57768651, 0.5875503 ,\n",
       "        0.58889982, 0.59149599, 0.59806958, 0.60888184, 0.62770573,\n",
       "        0.6284552 , 0.64539432, 0.65269608, 0.66299577, 0.6838879 ,\n",
       "        0.68770879, 0.69924526, 0.70159965, 0.75816208, 0.7711717 ,\n",
       "        0.79455808, 0.79713083, 0.81467343, 0.82957118, 0.83603438,\n",
       "        0.83755514, 0.85344405, 0.86087072, 0.86210237, 0.86420653,\n",
       "        0.8858867 , 0.88850845, 0.88857227, 0.89749965, 0.90136264,\n",
       "        0.93622237, 0.94637066, 0.94655367, 0.94812084, 0.96150837,\n",
       "        0.96173739, 0.9628731 , 0.9666795 , 0.97265978, 0.97370993]),\n",
       " array([1, 1, 1, 1, 1, 1, 1, 1, 1, 1, 1, 1, 1, 1, 1, 1, 1, 1, 1, 1, 1, 1,\n",
       "        1, 1, 1, 1, 1, 1, 1, 1, 1, 1, 1, 1, 1, 1, 1, 1, 1, 1, 1, 1, 1, 1,\n",
       "        1, 1, 1, 1, 1, 1, 1, 1, 1, 1, 1, 1, 1, 1, 1, 1, 1, 1, 1, 1, 1, 1,\n",
       "        1, 1, 1, 1, 1, 1, 1, 1, 1, 1, 1, 1, 1, 1, 1, 1, 1, 1, 1, 1, 1, 1,\n",
       "        1, 1, 1, 1, 1, 1, 1, 1, 1, 1, 1, 1]))"
      ]
     },
     "execution_count": 16,
     "metadata": {},
     "output_type": "execute_result"
    }
   ],
   "source": [
    "np.unique(x, return_counts=True)"
   ]
  },
  {
   "cell_type": "markdown",
   "id": "7a06d628-ea42-465a-a496-d6bd5a0355f8",
   "metadata": {},
   "source": [
    "## 15 logic"
   ]
  },
  {
   "cell_type": "code",
   "execution_count": 17,
   "id": "e6851dc4-157b-4c85-85b0-dd89b7e7ae74",
   "metadata": {},
   "outputs": [
    {
     "data": {
      "text/plain": [
       "array(['less', 'less', 'more', 'more', 'more', 'more', 'more', 'more',\n",
       "       'less', 'more', 'more', 'less', 'more', 'less', 'more', 'less',\n",
       "       'less', 'less', 'more', 'less', 'less', 'less', 'less', 'more',\n",
       "       'more', 'more', 'less', 'less', 'more', 'less', 'less', 'less',\n",
       "       'more', 'more', 'less', 'less', 'less', 'more', 'less', 'more',\n",
       "       'less', 'more', 'less', 'more', 'more', 'more', 'more', 'less',\n",
       "       'more', 'less', 'more', 'more', 'more', 'less', 'more', 'more',\n",
       "       'less', 'more', 'more', 'less', 'more', 'less', 'less', 'more',\n",
       "       'less', 'more', 'more', 'less', 'more', 'more', 'more', 'more',\n",
       "       'more', 'more', 'less', 'more', 'less', 'less', 'more', 'more',\n",
       "       'less', 'more', 'less', 'more', 'more', 'more', 'more', 'more',\n",
       "       'more', 'less', 'more', 'less', 'less', 'less', 'less', 'less',\n",
       "       'more', 'more', 'more', 'more'], dtype='<U4')"
      ]
     },
     "execution_count": 17,
     "metadata": {},
     "output_type": "execute_result"
    }
   ],
   "source": [
    "np.where(x > 0.4, 'more', 'less')"
   ]
  },
  {
   "cell_type": "code",
   "execution_count": null,
   "id": "b3f424a3-05ce-4ceb-9588-c711405dc7f4",
   "metadata": {},
   "outputs": [],
   "source": []
  }
 ],
 "metadata": {
  "kernelspec": {
   "display_name": "Python 3 (ipykernel)",
   "language": "python",
   "name": "python3"
  },
  "language_info": {
   "codemirror_mode": {
    "name": "ipython",
    "version": 3
   },
   "file_extension": ".py",
   "mimetype": "text/x-python",
   "name": "python",
   "nbconvert_exporter": "python",
   "pygments_lexer": "ipython3",
   "version": "3.11.10"
  }
 },
 "nbformat": 4,
 "nbformat_minor": 5
}
